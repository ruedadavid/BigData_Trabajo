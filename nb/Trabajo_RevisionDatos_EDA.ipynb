{
 "cells": [
  {
   "cell_type": "markdown",
   "metadata": {},
   "source": [
    "# Análisis Catastro Minero Colombiano\n",
    "Maestría Ciencias de Información y las Comunicaciones - Materia: Big Data.\n",
    "\n",
    "Por: David Alonso Rueda Rodríguez - 20181395007 (daruedar@correo.udistrital.edu.co)\n",
    "\n",
    "*Tema*: Análisis Exploratorio de datos"
   ]
  },
  {
   "cell_type": "markdown",
   "metadata": {},
   "source": [
    "#### Objetivo de la actividad:\n",
    "\n",
    "Caracterizar las variables consideradas para adelantar el análisis del Catastro Minero Colombiano\n",
    "\n",
    "#### Fuente de datos:\n",
    "\n",
    "Los datos se han descargado desde el Tablero de Control del Radicador de Solicitudes Mineras de la Agencia Nacional de Minería.\n",
    "\n",
    "Link: https://radicador.anm.gov.co/radicador-report/public/TableroSolicitudes.jsf\n",
    "\n",
    "#### Temas trabajados\n",
    "\n",
    "A continuación, listado de actividades trabajadas en el pre-procesamiento de datos:\n",
    "    \n",
    "##### Pre-procesamiento\n",
    "    1  Cargar Librerías\n",
    "    2. Importar datos a pandas\n",
    "    3. Preparación del grupo de datos\n",
    "    4. Descripción de los datos\n",
    "        4.1. Descripción variables numéricas\n",
    "        4.2. Descripción variables categóricas\n",
    "    5. Relaciones entre los datos\n",
    "    \n",
    "    [Enlace al Título](#idEncabezado1)\n",
    "    \n",
    "#### Listado de versiones\n",
    "\n",
    "1.0.0 Preparación del documento."
   ]
  },
  {
   "cell_type": "markdown",
   "metadata": {},
   "source": [
    "## Pre-procesamiento\n",
    "### 1. Cargar Librerías\n",
    "\n",
    "Este proyecto utilizará las librerías pandas, seaborn, numpy y matplotlib."
   ]
  },
  {
   "cell_type": "code",
   "execution_count": 2,
   "metadata": {},
   "outputs": [],
   "source": [
    "# importat librerías de interés\n",
    "import pandas as pd\n",
    "import numpy as np\n",
    "import seaborn as sns\n",
    "import matplotlib.pyplot as plt\n",
    "% matplotlib inline"
   ]
  },
  {
   "cell_type": "markdown",
   "metadata": {},
   "source": [
    "### 2. Importar datos con pandas\n",
    "Se importará el archivo de datos descargado desde el repositorio de kaggle, en este caso se cargarán todos los datos para iniciar el pre-procesamiento con pandas."
   ]
  },
  {
   "cell_type": "code",
   "execution_count": 3,
   "metadata": {},
   "outputs": [],
   "source": [
    "# Importar archivo de entrenamiento\n",
    "ent = pd.read_excel('../src/20181395007_ListadoPropuestas2018.xlsx')"
   ]
  },
  {
   "cell_type": "code",
   "execution_count": 4,
   "metadata": {},
   "outputs": [
    {
     "data": {
      "text/html": [
       "<div>\n",
       "<style scoped>\n",
       "    .dataframe tbody tr th:only-of-type {\n",
       "        vertical-align: middle;\n",
       "    }\n",
       "\n",
       "    .dataframe tbody tr th {\n",
       "        vertical-align: top;\n",
       "    }\n",
       "\n",
       "    .dataframe thead th {\n",
       "        text-align: right;\n",
       "    }\n",
       "</style>\n",
       "<table border=\"1\" class=\"dataframe\">\n",
       "  <thead>\n",
       "    <tr style=\"text-align: right;\">\n",
       "      <th></th>\n",
       "      <th>Fecha</th>\n",
       "      <th>Hora</th>\n",
       "      <th>Placa</th>\n",
       "      <th>Consecutivo</th>\n",
       "      <th>Orden_Dia</th>\n",
       "      <th>Tipo</th>\n",
       "      <th>Area_Normalizada</th>\n",
       "      <th>Mineral</th>\n",
       "      <th>Mineral Simplificado</th>\n",
       "      <th>Proponente</th>\n",
       "      <th>Primer_Departamento</th>\n",
       "      <th>Primer_Municipio</th>\n",
       "      <th>Porcentaje</th>\n",
       "      <th>Departamentos</th>\n",
       "      <th>Municipios</th>\n",
       "      <th>Participaciones</th>\n",
       "      <th>I</th>\n",
       "    </tr>\n",
       "  </thead>\n",
       "  <tbody>\n",
       "    <tr>\n",
       "      <th>0</th>\n",
       "      <td>2018-01-02</td>\n",
       "      <td>9:6:46:693</td>\n",
       "      <td>TA2-09061</td>\n",
       "      <td>12524</td>\n",
       "      <td>2</td>\n",
       "      <td>Propuestas de Contratos de Concesión</td>\n",
       "      <td>45.08695</td>\n",
       "      <td>ARENAS Y GRAVAS NATURALES Y SILICEAS</td>\n",
       "      <td>Materiales de Construcción</td>\n",
       "      <td>ASOSERVICIOS EL MOTILON SAS</td>\n",
       "      <td>NORTE SANTANDER</td>\n",
       "      <td>TIBU</td>\n",
       "      <td>55.91142</td>\n",
       "      <td>NORTE SANTANDER, NORTE SANTANDER</td>\n",
       "      <td>TIBU, EL TARRA</td>\n",
       "      <td>55.91142,  44.08857</td>\n",
       "      <td>I</td>\n",
       "    </tr>\n",
       "    <tr>\n",
       "      <th>1</th>\n",
       "      <td>2018-01-02</td>\n",
       "      <td>8:57:41:456</td>\n",
       "      <td>TA2-08571</td>\n",
       "      <td>12523</td>\n",
       "      <td>1</td>\n",
       "      <td>Propuestas de Contratos de Concesión</td>\n",
       "      <td>101.21230</td>\n",
       "      <td>MATERIALES DE CONSTRUCCIÓN, RECEBO (MIG), GRA...</td>\n",
       "      <td>Materiales de Construcción</td>\n",
       "      <td>COMERCIALIZADOS INTERNACIONAL DE MINERALES SAS</td>\n",
       "      <td>CESAR</td>\n",
       "      <td>GAMARRA</td>\n",
       "      <td>100.00000</td>\n",
       "      <td>CESAR</td>\n",
       "      <td>GAMARRA</td>\n",
       "      <td>100</td>\n",
       "      <td>I</td>\n",
       "    </tr>\n",
       "  </tbody>\n",
       "</table>\n",
       "</div>"
      ],
      "text/plain": [
       "       Fecha         Hora      Placa  Consecutivo  Orden_Dia  \\\n",
       "0 2018-01-02   9:6:46:693  TA2-09061        12524          2   \n",
       "1 2018-01-02  8:57:41:456  TA2-08571        12523          1   \n",
       "\n",
       "                                   Tipo  Area_Normalizada  \\\n",
       "0  Propuestas de Contratos de Concesión          45.08695   \n",
       "1  Propuestas de Contratos de Concesión         101.21230   \n",
       "\n",
       "                                             Mineral  \\\n",
       "0               ARENAS Y GRAVAS NATURALES Y SILICEAS   \n",
       "1   MATERIALES DE CONSTRUCCIÓN, RECEBO (MIG), GRA...   \n",
       "\n",
       "         Mineral Simplificado                                      Proponente  \\\n",
       "0  Materiales de Construcción                     ASOSERVICIOS EL MOTILON SAS   \n",
       "1  Materiales de Construcción  COMERCIALIZADOS INTERNACIONAL DE MINERALES SAS   \n",
       "\n",
       "  Primer_Departamento Primer_Municipio  Porcentaje  \\\n",
       "0     NORTE SANTANDER             TIBU    55.91142   \n",
       "1               CESAR          GAMARRA   100.00000   \n",
       "\n",
       "                      Departamentos      Municipios      Participaciones  I  \n",
       "0  NORTE SANTANDER, NORTE SANTANDER  TIBU, EL TARRA  55.91142,  44.08857  I  \n",
       "1                             CESAR         GAMARRA                  100  I  "
      ]
     },
     "execution_count": 4,
     "metadata": {},
     "output_type": "execute_result"
    }
   ],
   "source": [
    "# Visualización de datos cargados\n",
    "ent.head(2)"
   ]
  },
  {
   "cell_type": "markdown",
   "metadata": {},
   "source": [
    "### 3. Preparación del grupo de datos\n",
    "\n",
    "Esta actividad se realizó previamente en la fuente de datos utilizada. El pre-procesamiento fue el siguiente:\n",
    "\n",
    "#### 3.0 Descripción de variables consideradas"
   ]
  },
  {
   "cell_type": "code",
   "execution_count": 5,
   "metadata": {},
   "outputs": [
    {
     "name": "stdout",
     "output_type": "stream",
     "text": [
      "<class 'pandas.core.frame.DataFrame'>\n",
      "RangeIndex: 1885 entries, 0 to 1884\n",
      "Data columns (total 17 columns):\n",
      "Fecha                   1885 non-null datetime64[ns]\n",
      "Hora                    1885 non-null object\n",
      "Placa                   1885 non-null object\n",
      "Consecutivo             1885 non-null int64\n",
      "Orden_Dia               1885 non-null int64\n",
      "Tipo                    1885 non-null object\n",
      "Area_Normalizada        1885 non-null float64\n",
      "Mineral                 1885 non-null object\n",
      "Mineral Simplificado    1885 non-null object\n",
      "Proponente              1885 non-null object\n",
      "Primer_Departamento     1885 non-null object\n",
      "Primer_Municipio        1885 non-null object\n",
      "Porcentaje              1885 non-null float64\n",
      "Departamentos           1883 non-null object\n",
      "Municipios              1883 non-null object\n",
      "Participaciones         1883 non-null object\n",
      "I                       1885 non-null object\n",
      "dtypes: datetime64[ns](1), float64(2), int64(2), object(12)\n",
      "memory usage: 250.4+ KB\n"
     ]
    }
   ],
   "source": [
    "ent.info()"
   ]
  },
  {
   "cell_type": "markdown",
   "metadata": {},
   "source": [
    "Datos considerados y su descripción:\n",
    "\n",
    "|Datos Numéricos  | Descripción |\n",
    "|--|--|\n",
    "|Area_Normalizada| Área solicitada por cada propuesta de concesión|\n",
    "\n",
    "\n",
    "|Datos Categóricos  | Descripción |\n",
    "|--|--|\n",
    "|Fecha  | Fecha de presentación de la propuesta|\n",
    "|Hora   | Hora de presentación de la propuesta |\n",
    "|Placa  | Identificador asignado a la propuesta |\n",
    "|Consecutivo  | Número acumulativo con identificador de la propuesta |\n",
    "|Orden_Dia  | Consecutivo de la propuesta |\n",
    "|Mineral  | Tipo de mineral de la propuesta |\n",
    "|Mineral Simplificado  | Tipo de mineral agrupado para facilitar interpretación |\n",
    "|Proponente  | Nombre de la compañía que propone el contrato de concesión |\n",
    "|Primer_Departamento  | Nombre del Departamento que se superpone con mayor área |\n",
    "|Primer_Municipio  | Nombre del Municipio con mayor superposición en área|\n",
    "|Porcentaje  | Porcentaje de área que ocupa del primer municipio en la propuesta |\n",
    "|Departamentos  | Departamentos de la propuesta |\n",
    "|Municipios  | Municipios de la propuesta |\n",
    "|Participaciones  | Porcentajes de participación por cada propuesta |\n",
    "|Datos Categóricos  | Descripción |"
   ]
  },
  {
   "cell_type": "markdown",
   "metadata": {},
   "source": [
    "#### 3.1 Agrupamiento de datos en 5 grupos\n",
    "\n",
    "- Metales Base (Cobre, Plata, Oro, Platino, Zinc, Hierro y Niquel)\n",
    "- Piedras Preciosas (Esmeraldas)\n",
    "- Carbón (Carbón) y Otros (Abonos, feldespatos, roca fosfórica)\n",
    "- Materiales de construcción (Arcillas, Arenas, Materiales de construcción y calizas)"
   ]
  },
  {
   "cell_type": "code",
   "execution_count": 6,
   "metadata": {},
   "outputs": [
    {
     "data": {
      "text/plain": [
       "0"
      ]
     },
     "execution_count": 6,
     "metadata": {},
     "output_type": "execute_result"
    }
   ],
   "source": [
    "ent['Mineral Simplificado'].isnull().sum()"
   ]
  },
  {
   "cell_type": "markdown",
   "metadata": {},
   "source": [
    "Se han encontrado cerca de 55 grupos de minerales para un análisis sobre esta variable se hace sumamente complejo, por tal motivo se han clasificado en 5grupos previamente descritos"
   ]
  },
  {
   "cell_type": "code",
   "execution_count": 7,
   "metadata": {},
   "outputs": [
    {
     "data": {
      "text/plain": [
       "Materiales de Construcción    984\n",
       "Metales Base                  559\n",
       "Carbón                        178\n",
       "Piedras Preciosas             129\n",
       "Otro                           25\n",
       "Otros                          10\n",
       "Name: Mineral Simplificado, dtype: int64"
      ]
     },
     "execution_count": 7,
     "metadata": {},
     "output_type": "execute_result"
    }
   ],
   "source": [
    "ent['Mineral Simplificado'].value_counts()"
   ]
  },
  {
   "cell_type": "code",
   "execution_count": 8,
   "metadata": {},
   "outputs": [
    {
     "data": {
      "image/png": "[encoded data removed]",
      "text/plain": [
       "<Figure size 576x576 with 1 Axes>"
      ]
     },
     "metadata": {},
     "output_type": "display_data"
    }
   ],
   "source": [
    "sur = pd.DataFrame({'Minerales S':[984, 129, 559, 213]}, index=['Materiales de Construcción','Piedras Preciosas','Metales Base', 'Carbón y Otros'])\n",
    "plot2 = sur.plot.pie(y='Minerales S', legend=False, title=\"Solicitudes por grupos de minerales\", table=True, figsize=(8,8))"
   ]
  },
  {
   "cell_type": "code",
   "execution_count": 9,
   "metadata": {},
   "outputs": [
    {
     "data": {
      "text/plain": [
       "<matplotlib.axes._subplots.AxesSubplot at 0x7f1bc32de240>"
      ]
     },
     "execution_count": 9,
     "metadata": {},
     "output_type": "execute_result"
    },
    {
     "data": {
      "image/png": "[encoded data removed]",
      "text/plain": [
       "<Figure size 432x288 with 1 Axes>"
      ]
     },
     "metadata": {},
     "output_type": "display_data"
    }
   ],
   "source": [
    "# Generación de gráfico de barras para valores considerados categóricos\n",
    "datos_categoricos = ent[['Mineral Simplificado', 'Proponente', 'Hora', 'Primer_Departamento', 'Primer_Municipio']]\n",
    "sns.countplot(data = datos_categoricos, x = 'Mineral Simplificado')"
   ]
  },
  {
   "cell_type": "markdown",
   "metadata": {},
   "source": [
    "Las propuestas mineras analizadas entre Enero 01 de 2018 y Marzo 31 de 2019 presentan una alta dinámica para materiales de construcción con la mayor participación de las propuestas con un **52%**, seguido por los metales base con un **30%**, el Carbón y otros con un 11% y Piedras Preciosas con el 7%.\n",
    "\n",
    "La gran mayoría de la minería en el país se hace para satisfacer la necesidad de materiales para construcción de casa, edificaciones y obras de infraestructura."
   ]
  },
  {
   "cell_type": "markdown",
   "metadata": {},
   "source": [
    "#### 3.2 Normalización de las áreas\n",
    "Se han transformado los datos de área a unidades de hectáreas, porque algunos datos se expresaban en metros cuadrados.\n",
    "#### 3.3 Segmentación de fechas\n",
    "\n",
    "Las fechas serán segmentadas en paquetes de 2 horas, los grupos establecidos son los siguientes:\n",
    "\n",
    "|Horas|Rango|\n",
    "|--|--|\n",
    "|08-09|1|\n",
    "|10-11|2|\n",
    "|12-13|3|\n",
    "|14-15|4|\n",
    "|16-17|5|\n",
    "\n",
    "Se inicia a las 8.00 porque a esa hora abre el Catastro Minero para presentación de solicitudes y finaliza atención a las 17.00\n",
    "\n",
    "Para lograr esto se creará el campo **'Hora_segm'**, para esto es necesario crear la función asignarHorario"
   ]
  },
  {
   "cell_type": "code",
   "execution_count": 66,
   "metadata": {},
   "outputs": [],
   "source": [
    "# Definición de Función para asignación de códigos de hora\n",
    "def asignarHorario(hora):\n",
    "    \"\"\" Esta función utiliza una progresión numérica para estimar el resultado de la categorización\"\"\"\n",
    "    # Import de la librería math el función floor\n",
    "    from math import floor\n",
    "    # define el límite de la cadena de texto\n",
    "    limite = hora.find(\":\")\n",
    "    # extrae la cadena de texto necesaria y la convierte en número\n",
    "    hora2 = int(hora[0:limite])\n",
    "    # Asigna  la respectiva categoría utilizado el resultado de la progresión numérica\n",
    "    # d = Salto numérico\n",
    "    # n = indice de cambio n=[0,inf)\n",
    "    # a_1 = valor de salida\n",
    "    # a_n = a_1 + d*(n-1)\n",
    "    categoria = 1+((hora2-8)/2)\n",
    "    # Valor entero aproximado al menor valor\n",
    "    return floor(categoria)"
   ]
  },
  {
   "cell_type": "code",
   "execution_count": 68,
   "metadata": {},
   "outputs": [
    {
     "data": {
      "text/html": [
       "<div>\n",
       "<style scoped>\n",
       "    .dataframe tbody tr th:only-of-type {\n",
       "        vertical-align: middle;\n",
       "    }\n",
       "\n",
       "    .dataframe tbody tr th {\n",
       "        vertical-align: top;\n",
       "    }\n",
       "\n",
       "    .dataframe thead th {\n",
       "        text-align: right;\n",
       "    }\n",
       "</style>\n",
       "<table border=\"1\" class=\"dataframe\">\n",
       "  <thead>\n",
       "    <tr style=\"text-align: right;\">\n",
       "      <th></th>\n",
       "      <th>Placa</th>\n",
       "      <th>Hora</th>\n",
       "      <th>Hora_segm</th>\n",
       "    </tr>\n",
       "  </thead>\n",
       "  <tbody>\n",
       "    <tr>\n",
       "      <th>10</th>\n",
       "      <td>TA4-14451</td>\n",
       "      <td>14:45:32:294</td>\n",
       "      <td>4</td>\n",
       "    </tr>\n",
       "    <tr>\n",
       "      <th>11</th>\n",
       "      <td>TA4-09251</td>\n",
       "      <td>9:25:1:374</td>\n",
       "      <td>1</td>\n",
       "    </tr>\n",
       "    <tr>\n",
       "      <th>12</th>\n",
       "      <td>TA5-16441</td>\n",
       "      <td>16:44:22:921</td>\n",
       "      <td>5</td>\n",
       "    </tr>\n",
       "    <tr>\n",
       "      <th>13</th>\n",
       "      <td>TA5-16131</td>\n",
       "      <td>16:13:23:285</td>\n",
       "      <td>5</td>\n",
       "    </tr>\n",
       "    <tr>\n",
       "      <th>14</th>\n",
       "      <td>TA9-10551</td>\n",
       "      <td>10:55:33:262</td>\n",
       "      <td>2</td>\n",
       "    </tr>\n",
       "    <tr>\n",
       "      <th>15</th>\n",
       "      <td>TA9-08091</td>\n",
       "      <td>8:9:7:343</td>\n",
       "      <td>1</td>\n",
       "    </tr>\n",
       "    <tr>\n",
       "      <th>16</th>\n",
       "      <td>TA9-08021</td>\n",
       "      <td>8:2:18:108</td>\n",
       "      <td>1</td>\n",
       "    </tr>\n",
       "    <tr>\n",
       "      <th>17</th>\n",
       "      <td>TA9-08001</td>\n",
       "      <td>8:0:28:575</td>\n",
       "      <td>1</td>\n",
       "    </tr>\n",
       "    <tr>\n",
       "      <th>18</th>\n",
       "      <td>TAA-16001</td>\n",
       "      <td>16:0:27:59</td>\n",
       "      <td>5</td>\n",
       "    </tr>\n",
       "    <tr>\n",
       "      <th>19</th>\n",
       "      <td>TAA-14561</td>\n",
       "      <td>14:56:28:821</td>\n",
       "      <td>4</td>\n",
       "    </tr>\n",
       "  </tbody>\n",
       "</table>\n",
       "</div>"
      ],
      "text/plain": [
       "        Placa          Hora  Hora_segm\n",
       "10  TA4-14451  14:45:32:294          4\n",
       "11  TA4-09251    9:25:1:374          1\n",
       "12  TA5-16441  16:44:22:921          5\n",
       "13  TA5-16131  16:13:23:285          5\n",
       "14  TA9-10551  10:55:33:262          2\n",
       "15  TA9-08091     8:9:7:343          1\n",
       "16  TA9-08021    8:2:18:108          1\n",
       "17  TA9-08001    8:0:28:575          1\n",
       "18  TAA-16001    16:0:27:59          5\n",
       "19  TAA-14561  14:56:28:821          4"
      ]
     },
     "execution_count": 68,
     "metadata": {},
     "output_type": "execute_result"
    }
   ],
   "source": [
    "# Este ciclo visita todos los elementos del DataFrame, le envía los datos\n",
    "#  y hace asignacioń a un array de los resultados\n",
    "horario = np.array([asignarHorario(hora) for hora in ent['Hora'].values])\n",
    "# Asigna al campo Hora_segm los valores del vector estimado\n",
    "ent = ent.assign(Hora_segm = horario)\n",
    "# Muestra el resultado del nuevo valor\n",
    "ent[['Placa', 'Hora', 'Hora_segm']][10:20]"
   ]
  },
  {
   "cell_type": "code",
   "execution_count": 27,
   "metadata": {},
   "outputs": [
    {
     "name": "stdout",
     "output_type": "stream",
     "text": [
      "Cadena de texto: 11:3:32:947, valor encontrado: 2\n"
     ]
    },
    {
     "data": {
      "text/plain": [
       "'11'"
      ]
     },
     "execution_count": 27,
     "metadata": {},
     "output_type": "execute_result"
    }
   ],
   "source": [
    "ent['Hora'][2][0:a]\n"
   ]
  },
  {
   "cell_type": "markdown",
   "metadata": {},
   "source": [
    "#### 3.4 Datos nulos\n",
    "\n",
    "Se observa que únicamente se tienen 2 propuestas con datos nulos"
   ]
  },
  {
   "cell_type": "code",
   "execution_count": 10,
   "metadata": {},
   "outputs": [
    {
     "data": {
      "text/plain": [
       "Fecha                   0\n",
       "Hora                    0\n",
       "Placa                   0\n",
       "Consecutivo             0\n",
       "Orden_Dia               0\n",
       "Tipo                    0\n",
       "Area_Normalizada        0\n",
       "Mineral                 0\n",
       "Mineral Simplificado    0\n",
       "Proponente              0\n",
       "Primer_Departamento     0\n",
       "Primer_Municipio        0\n",
       "Porcentaje              0\n",
       "Departamentos           2\n",
       "Municipios              2\n",
       "Participaciones         2\n",
       "I                       0\n",
       "dtype: int64"
      ]
     },
     "execution_count": 10,
     "metadata": {},
     "output_type": "execute_result"
    }
   ],
   "source": [
    "ent.isnull().sum()"
   ]
  },
  {
   "cell_type": "markdown",
   "metadata": {},
   "source": [
    "#### 3.5. Revisión Datos numéricos"
   ]
  },
  {
   "cell_type": "markdown",
   "metadata": {},
   "source": [
    "El principal campo a analizar es el \"Área Normalizada\""
   ]
  },
  {
   "cell_type": "code",
   "execution_count": 11,
   "metadata": {},
   "outputs": [
    {
     "data": {
      "text/plain": [
       "count     1885.000000\n",
       "mean      1113.666794\n",
       "std       2086.065981\n",
       "min          0.000000\n",
       "25%         48.662900\n",
       "50%        183.398700\n",
       "75%       1175.000000\n",
       "max      10000.000000\n",
       "Name: Area_Normalizada, dtype: float64"
      ]
     },
     "execution_count": 11,
     "metadata": {},
     "output_type": "execute_result"
    }
   ],
   "source": [
    "ent['Area_Normalizada'].describe()"
   ]
  },
  {
   "cell_type": "markdown",
   "metadata": {},
   "source": [
    "Una nueva pregunta a partir de estos datos se relaciona con el tamaño de la minería que se proyecta para el país, aunque en los últimos años se ha puesto en conocimiento de la opinión pública temas sobre grandes proyectos mineros, la realidad que vive el país es una solicitud constante de áreas consideradas como pequeña y mediana minería.\n",
    "\n",
    "Se hace evidente porque la media de las solicitudes está fijada en 1113.667 hectáreas, que según decretos relacionados con la exploración minera son considerados mediana minería (**Agregar decreto**)."
   ]
  },
  {
   "cell_type": "code",
   "execution_count": 12,
   "metadata": {},
   "outputs": [
    {
     "data": {
      "text/plain": [
       "0"
      ]
     },
     "execution_count": 12,
     "metadata": {},
     "output_type": "execute_result"
    }
   ],
   "source": [
    "ent['Area_Normalizada'].isnull().sum()"
   ]
  },
  {
   "cell_type": "code",
   "execution_count": null,
   "metadata": {},
   "outputs": [],
   "source": []
  },
  {
   "cell_type": "code",
   "execution_count": 13,
   "metadata": {},
   "outputs": [
    {
     "data": {
      "image/png": "[encoded data removed]",
      "text/plain": [
       "<Figure size 432x288 with 1 Axes>"
      ]
     },
     "metadata": {},
     "output_type": "display_data"
    }
   ],
   "source": [
    "plot = sns.boxplot(x=ent['Area_Normalizada'], orient=\"h\", width=0.15)"
   ]
  },
  {
   "cell_type": "markdown",
   "metadata": {},
   "source": [
    "### 4. Descripción de los datos\n",
    "#### 4.1 Descripción variables numéricas\n",
    "\n",
    "El campo de Area_Normalizada es un campo en el cual todos los datos se han expresado en unidades de hectáreas. Con el gráfico el siguiente histograma se identifica que la exploración los meses analizados se presenta principalmente en área de exploración pequeñas asociadas a pequeña minería.\n",
    "\n",
    "Después de lo anterior es posible concluir que la actividad de exploración se ha principalmente para pequeña y mediana mineria."
   ]
  },
  {
   "cell_type": "code",
   "execution_count": 14,
   "metadata": {},
   "outputs": [
    {
     "data": {
      "text/plain": [
       "<matplotlib.axes._subplots.AxesSubplot at 0x7f1bc0f63f28>"
      ]
     },
     "execution_count": 14,
     "metadata": {},
     "output_type": "execute_result"
    },
    {
     "data": {
      "image/png": "[encoded data removed]",
      "text/plain": [
       "<Figure size 576x432 with 1 Axes>"
      ]
     },
     "metadata": {},
     "output_type": "display_data"
    }
   ],
   "source": [
    "# Comportamiento de los datos normalizados de área\n",
    "ent['Area_Normalizada'].hist(figsize=(8,6))"
   ]
  }
 ],
 "metadata": {
  "kernelspec": {
   "display_name": "Python 3",
   "language": "python",
   "name": "python3"
  },
  "language_info": {
   "codemirror_mode": {
    "name": "ipython",
    "version": 3
   },
   "file_extension": ".py",
   "mimetype": "text/x-python",
   "name": "python",
   "nbconvert_exporter": "python",
   "pygments_lexer": "ipython3",
   "version": "3.6.7"
  }
 },
 "nbformat": 4,
 "nbformat_minor": 2
}
